{
 "cells": [
  {
   "cell_type": "markdown",
   "id": "36e25c3c",
   "metadata": {},
   "source": [
    "# The objective of this assignment is to implement a recommendation system using cosine similarity on an anime dataset"
   ]
  },
  {
   "cell_type": "markdown",
   "id": "16c5c44c",
   "metadata": {},
   "source": [
    "# Data Preprocessing:"
   ]
  },
  {
   "cell_type": "code",
   "execution_count": 1,
   "id": "283427e5",
   "metadata": {},
   "outputs": [
    {
     "data": {
      "text/html": [
       "<div>\n",
       "<style scoped>\n",
       "    .dataframe tbody tr th:only-of-type {\n",
       "        vertical-align: middle;\n",
       "    }\n",
       "\n",
       "    .dataframe tbody tr th {\n",
       "        vertical-align: top;\n",
       "    }\n",
       "\n",
       "    .dataframe thead th {\n",
       "        text-align: right;\n",
       "    }\n",
       "</style>\n",
       "<table border=\"1\" class=\"dataframe\">\n",
       "  <thead>\n",
       "    <tr style=\"text-align: right;\">\n",
       "      <th></th>\n",
       "      <th>anime_id</th>\n",
       "      <th>name</th>\n",
       "      <th>genre</th>\n",
       "      <th>type</th>\n",
       "      <th>episodes</th>\n",
       "      <th>rating</th>\n",
       "      <th>members</th>\n",
       "    </tr>\n",
       "  </thead>\n",
       "  <tbody>\n",
       "    <tr>\n",
       "      <th>0</th>\n",
       "      <td>32281</td>\n",
       "      <td>Kimi no Na wa.</td>\n",
       "      <td>Drama, Romance, School, Supernatural</td>\n",
       "      <td>Movie</td>\n",
       "      <td>1</td>\n",
       "      <td>9.37</td>\n",
       "      <td>200630</td>\n",
       "    </tr>\n",
       "    <tr>\n",
       "      <th>1</th>\n",
       "      <td>5114</td>\n",
       "      <td>Fullmetal Alchemist: Brotherhood</td>\n",
       "      <td>Action, Adventure, Drama, Fantasy, Magic, Mili...</td>\n",
       "      <td>TV</td>\n",
       "      <td>64</td>\n",
       "      <td>9.26</td>\n",
       "      <td>793665</td>\n",
       "    </tr>\n",
       "    <tr>\n",
       "      <th>2</th>\n",
       "      <td>28977</td>\n",
       "      <td>Gintama°</td>\n",
       "      <td>Action, Comedy, Historical, Parody, Samurai, S...</td>\n",
       "      <td>TV</td>\n",
       "      <td>51</td>\n",
       "      <td>9.25</td>\n",
       "      <td>114262</td>\n",
       "    </tr>\n",
       "    <tr>\n",
       "      <th>3</th>\n",
       "      <td>9253</td>\n",
       "      <td>Steins;Gate</td>\n",
       "      <td>Sci-Fi, Thriller</td>\n",
       "      <td>TV</td>\n",
       "      <td>24</td>\n",
       "      <td>9.17</td>\n",
       "      <td>673572</td>\n",
       "    </tr>\n",
       "    <tr>\n",
       "      <th>4</th>\n",
       "      <td>9969</td>\n",
       "      <td>Gintama&amp;#039;</td>\n",
       "      <td>Action, Comedy, Historical, Parody, Samurai, S...</td>\n",
       "      <td>TV</td>\n",
       "      <td>51</td>\n",
       "      <td>9.16</td>\n",
       "      <td>151266</td>\n",
       "    </tr>\n",
       "  </tbody>\n",
       "</table>\n",
       "</div>"
      ],
      "text/plain": [
       "   anime_id                              name  \\\n",
       "0     32281                    Kimi no Na wa.   \n",
       "1      5114  Fullmetal Alchemist: Brotherhood   \n",
       "2     28977                          Gintama°   \n",
       "3      9253                       Steins;Gate   \n",
       "4      9969                     Gintama&#039;   \n",
       "\n",
       "                                               genre   type episodes  rating  \\\n",
       "0               Drama, Romance, School, Supernatural  Movie        1    9.37   \n",
       "1  Action, Adventure, Drama, Fantasy, Magic, Mili...     TV       64    9.26   \n",
       "2  Action, Comedy, Historical, Parody, Samurai, S...     TV       51    9.25   \n",
       "3                                   Sci-Fi, Thriller     TV       24    9.17   \n",
       "4  Action, Comedy, Historical, Parody, Samurai, S...     TV       51    9.16   \n",
       "\n",
       "   members  \n",
       "0   200630  \n",
       "1   793665  \n",
       "2   114262  \n",
       "3   673572  \n",
       "4   151266  "
      ]
     },
     "execution_count": 1,
     "metadata": {},
     "output_type": "execute_result"
    }
   ],
   "source": [
    "import pandas as pd  #import pandas lib. using it's short form pd\n",
    "data=pd.read_csv(r'anime.csv',header=0)  #read dataset & save it in var. data\n",
    "data.head()   #display top 5 rows"
   ]
  },
  {
   "cell_type": "code",
   "execution_count": 2,
   "id": "8af37adc",
   "metadata": {},
   "outputs": [
    {
     "name": "stdout",
     "output_type": "stream",
     "text": [
      "<class 'pandas.core.frame.DataFrame'>\n",
      "RangeIndex: 12294 entries, 0 to 12293\n",
      "Data columns (total 7 columns):\n",
      " #   Column    Non-Null Count  Dtype  \n",
      "---  ------    --------------  -----  \n",
      " 0   anime_id  12294 non-null  int64  \n",
      " 1   name      12294 non-null  object \n",
      " 2   genre     12232 non-null  object \n",
      " 3   type      12269 non-null  object \n",
      " 4   episodes  12294 non-null  object \n",
      " 5   rating    12064 non-null  float64\n",
      " 6   members   12294 non-null  int64  \n",
      "dtypes: float64(1), int64(2), object(4)\n",
      "memory usage: 672.5+ KB\n"
     ]
    }
   ],
   "source": [
    "data.info()  #gives information about null values and data type of each column"
   ]
  },
  {
   "cell_type": "code",
   "execution_count": 3,
   "id": "a99fa939",
   "metadata": {},
   "outputs": [
    {
     "data": {
      "text/plain": [
       "(12294, 7)"
      ]
     },
     "execution_count": 3,
     "metadata": {},
     "output_type": "execute_result"
    }
   ],
   "source": [
    "data.shape  #no. of rows and columns"
   ]
  },
  {
   "cell_type": "code",
   "execution_count": 4,
   "id": "e90948e7",
   "metadata": {},
   "outputs": [
    {
     "data": {
      "text/plain": [
       "anime_id      0\n",
       "name          0\n",
       "genre        62\n",
       "type         25\n",
       "episodes      0\n",
       "rating      230\n",
       "members       0\n",
       "dtype: int64"
      ]
     },
     "execution_count": 4,
     "metadata": {},
     "output_type": "execute_result"
    }
   ],
   "source": [
    "data.isnull().sum()  #display no. of null values in each column"
   ]
  },
  {
   "cell_type": "markdown",
   "id": "bd63783b",
   "metadata": {},
   "source": [
    "\n",
    "Let's check is there any duplicated row(s) in our dataset. If yes, then remove such rows."
   ]
  },
  {
   "cell_type": "code",
   "execution_count": 5,
   "id": "983d2148",
   "metadata": {},
   "outputs": [
    {
     "data": {
      "text/html": [
       "<div>\n",
       "<style scoped>\n",
       "    .dataframe tbody tr th:only-of-type {\n",
       "        vertical-align: middle;\n",
       "    }\n",
       "\n",
       "    .dataframe tbody tr th {\n",
       "        vertical-align: top;\n",
       "    }\n",
       "\n",
       "    .dataframe thead th {\n",
       "        text-align: right;\n",
       "    }\n",
       "</style>\n",
       "<table border=\"1\" class=\"dataframe\">\n",
       "  <thead>\n",
       "    <tr style=\"text-align: right;\">\n",
       "      <th></th>\n",
       "      <th>anime_id</th>\n",
       "      <th>name</th>\n",
       "      <th>genre</th>\n",
       "      <th>type</th>\n",
       "      <th>episodes</th>\n",
       "      <th>rating</th>\n",
       "      <th>members</th>\n",
       "    </tr>\n",
       "  </thead>\n",
       "  <tbody>\n",
       "  </tbody>\n",
       "</table>\n",
       "</div>"
      ],
      "text/plain": [
       "Empty DataFrame\n",
       "Columns: [anime_id, name, genre, type, episodes, rating, members]\n",
       "Index: []"
      ]
     },
     "execution_count": 5,
     "metadata": {},
     "output_type": "execute_result"
    }
   ],
   "source": [
    "data[data.duplicated()]  #print duplicated rows "
   ]
  },
  {
   "cell_type": "markdown",
   "id": "2475fe8a",
   "metadata": {},
   "source": [
    "It shows that there is no duplicated rows in our dataset"
   ]
  },
  {
   "cell_type": "markdown",
   "id": "aeb202a0",
   "metadata": {},
   "source": [
    "# Handle missing values"
   ]
  },
  {
   "cell_type": "markdown",
   "id": "104413f1",
   "metadata": {},
   "source": [
    "we can treat null values using Imputation technique. Imputation technique is used for replacing the missing data with some substitute values to retain most of the data/information of the dataset. These substitute values can be either mean, median or mode."
   ]
  },
  {
   "cell_type": "markdown",
   "id": "179aefef",
   "metadata": {},
   "source": [
    "Null values of columns genre and type can be treated using mode because they are categorical columns . Use mode specifying it's index position"
   ]
  },
  {
   "cell_type": "code",
   "execution_count": 6,
   "id": "14c9c554",
   "metadata": {},
   "outputs": [],
   "source": [
    "mode=data['genre'].mode() #calculate mode of col genre and save in var. mode"
   ]
  },
  {
   "cell_type": "code",
   "execution_count": 7,
   "id": "b38b4c51",
   "metadata": {},
   "outputs": [
    {
     "data": {
      "text/plain": [
       "0    Hentai\n",
       "Name: genre, dtype: object"
      ]
     },
     "execution_count": 7,
     "metadata": {},
     "output_type": "execute_result"
    }
   ],
   "source": [
    "mode"
   ]
  },
  {
   "cell_type": "code",
   "execution_count": 8,
   "id": "9ea2418c",
   "metadata": {},
   "outputs": [],
   "source": [
    "data['genre'].fillna(mode[0],inplace=True)  #fill missing values of column genre with mode "
   ]
  },
  {
   "cell_type": "code",
   "execution_count": 9,
   "id": "1d28c15f",
   "metadata": {},
   "outputs": [
    {
     "data": {
      "text/plain": [
       "anime_id      0\n",
       "name          0\n",
       "genre         0\n",
       "type         25\n",
       "episodes      0\n",
       "rating      230\n",
       "members       0\n",
       "dtype: int64"
      ]
     },
     "execution_count": 9,
     "metadata": {},
     "output_type": "execute_result"
    }
   ],
   "source": [
    "data.isnull().sum() # we can see no. of null values in col genre have become zero now because they are filled with mode value"
   ]
  },
  {
   "cell_type": "code",
   "execution_count": 10,
   "id": "7a184150",
   "metadata": {},
   "outputs": [],
   "source": [
    "mode=data['type'].mode() #calculate mode of col type and save in var. mode"
   ]
  },
  {
   "cell_type": "code",
   "execution_count": 11,
   "id": "19720296",
   "metadata": {},
   "outputs": [
    {
     "data": {
      "text/plain": [
       "0    TV\n",
       "Name: type, dtype: object"
      ]
     },
     "execution_count": 11,
     "metadata": {},
     "output_type": "execute_result"
    }
   ],
   "source": [
    "mode"
   ]
  },
  {
   "cell_type": "code",
   "execution_count": 12,
   "id": "aedec032",
   "metadata": {},
   "outputs": [],
   "source": [
    "data['type'].fillna(mode[0],inplace=True)  #fill missing values of column type with mode "
   ]
  },
  {
   "cell_type": "code",
   "execution_count": 13,
   "id": "74a17782",
   "metadata": {},
   "outputs": [
    {
     "data": {
      "text/plain": [
       "anime_id      0\n",
       "name          0\n",
       "genre         0\n",
       "type          0\n",
       "episodes      0\n",
       "rating      230\n",
       "members       0\n",
       "dtype: int64"
      ]
     },
     "execution_count": 13,
     "metadata": {},
     "output_type": "execute_result"
    }
   ],
   "source": [
    "data.isnull().sum() # we can see no. of null values in col type have become zero now because they are filled with mode value"
   ]
  },
  {
   "cell_type": "markdown",
   "id": "cc3c5696",
   "metadata": {},
   "source": [
    "# we can treat null values of column rating using mean"
   ]
  },
  {
   "cell_type": "code",
   "execution_count": 14,
   "id": "7d03d2b5",
   "metadata": {},
   "outputs": [],
   "source": [
    "mean=data['rating'].mean() #calculate mean of col rating and save in var. mean"
   ]
  },
  {
   "cell_type": "code",
   "execution_count": 15,
   "id": "31ac1c8e",
   "metadata": {},
   "outputs": [
    {
     "data": {
      "text/plain": [
       "6.473901690981445"
      ]
     },
     "execution_count": 15,
     "metadata": {},
     "output_type": "execute_result"
    }
   ],
   "source": [
    "mean"
   ]
  },
  {
   "cell_type": "code",
   "execution_count": 16,
   "id": "07e739f9",
   "metadata": {},
   "outputs": [],
   "source": [
    "data['rating'].fillna(mean,inplace=True)  #fill missing values of column rating with mean"
   ]
  },
  {
   "cell_type": "code",
   "execution_count": 17,
   "id": "44ade615",
   "metadata": {},
   "outputs": [
    {
     "data": {
      "text/plain": [
       "anime_id    0\n",
       "name        0\n",
       "genre       0\n",
       "type        0\n",
       "episodes    0\n",
       "rating      0\n",
       "members     0\n",
       "dtype: int64"
      ]
     },
     "execution_count": 17,
     "metadata": {},
     "output_type": "execute_result"
    }
   ],
   "source": [
    "data.isnull().sum() # we can see no. of null values in col rating have become zero now because they are filled with mean value"
   ]
  },
  {
   "cell_type": "code",
   "execution_count": 18,
   "id": "18e4a78f",
   "metadata": {},
   "outputs": [
    {
     "data": {
      "text/plain": [
       "anime_id      int64\n",
       "name         object\n",
       "genre        object\n",
       "type         object\n",
       "episodes     object\n",
       "rating      float64\n",
       "members       int64\n",
       "dtype: object"
      ]
     },
     "execution_count": 18,
     "metadata": {},
     "output_type": "execute_result"
    }
   ],
   "source": [
    "data.dtypes  #display  data dtypes of each column"
   ]
  },
  {
   "cell_type": "markdown",
   "id": "7238c366",
   "metadata": {},
   "source": [
    "Note: episodes column should be int type but it's given as object. So, let's check the unique values in this column"
   ]
  },
  {
   "cell_type": "code",
   "execution_count": 19,
   "id": "058c73c1",
   "metadata": {},
   "outputs": [
    {
     "data": {
      "text/plain": [
       "array(['1', '64', '51', '24', '10', '148', '110', '13', '201', '25', '22',\n",
       "       '75', '4', '26', '12', '27', '43', '74', '37', '2', '11', '99',\n",
       "       'Unknown', '39', '101', '47', '50', '62', '33', '112', '23', '3',\n",
       "       '94', '6', '8', '14', '7', '40', '15', '203', '77', '291', '120',\n",
       "       '102', '96', '38', '79', '175', '103', '70', '153', '45', '5',\n",
       "       '21', '63', '52', '28', '145', '36', '69', '60', '178', '114',\n",
       "       '35', '61', '34', '109', '20', '9', '49', '366', '97', '48', '78',\n",
       "       '358', '155', '104', '113', '54', '167', '161', '42', '142', '31',\n",
       "       '373', '220', '46', '195', '17', '1787', '73', '147', '127', '16',\n",
       "       '19', '98', '150', '76', '53', '124', '29', '115', '224', '44',\n",
       "       '58', '93', '154', '92', '67', '172', '86', '30', '276', '59',\n",
       "       '72', '330', '41', '105', '128', '137', '56', '55', '65', '243',\n",
       "       '193', '18', '191', '180', '91', '192', '66', '182', '32', '164',\n",
       "       '100', '296', '694', '95', '68', '117', '151', '130', '87', '170',\n",
       "       '119', '84', '108', '156', '140', '331', '305', '300', '510',\n",
       "       '200', '88', '1471', '526', '143', '726', '136', '1818', '237',\n",
       "       '1428', '365', '163', '283', '71', '260', '199', '225', '312',\n",
       "       '240', '1306', '1565', '773', '1274', '90', '475', '263', '83',\n",
       "       '85', '1006', '80', '162', '132', '141', '125'], dtype=object)"
      ]
     },
     "execution_count": 19,
     "metadata": {},
     "output_type": "execute_result"
    }
   ],
   "source": [
    "data['episodes'].unique()  # unique values in episodes column"
   ]
  },
  {
   "cell_type": "markdown",
   "id": "fae9fe91",
   "metadata": {},
   "source": [
    "We can see '1' , '64',.....,'Unknown'....all are string type. So, let's convert string into number"
   ]
  },
  {
   "cell_type": "code",
   "execution_count": 20,
   "id": "638e74b4",
   "metadata": {},
   "outputs": [],
   "source": [
    "data['episodes'] = pd.to_numeric(data['episodes'], errors= 'coerce') # convert string into number"
   ]
  },
  {
   "cell_type": "code",
   "execution_count": 21,
   "id": "73fb834f",
   "metadata": {},
   "outputs": [
    {
     "data": {
      "text/plain": [
       "dtype('float64')"
      ]
     },
     "execution_count": 21,
     "metadata": {},
     "output_type": "execute_result"
    }
   ],
   "source": [
    "data['episodes'].dtypes"
   ]
  },
  {
   "cell_type": "code",
   "execution_count": 22,
   "id": "8df1a9cf",
   "metadata": {},
   "outputs": [
    {
     "data": {
      "text/plain": [
       "array([1.000e+00, 6.400e+01, 5.100e+01, 2.400e+01, 1.000e+01, 1.480e+02,\n",
       "       1.100e+02, 1.300e+01, 2.010e+02, 2.500e+01, 2.200e+01, 7.500e+01,\n",
       "       4.000e+00, 2.600e+01, 1.200e+01, 2.700e+01, 4.300e+01, 7.400e+01,\n",
       "       3.700e+01, 2.000e+00, 1.100e+01, 9.900e+01,       nan, 3.900e+01,\n",
       "       1.010e+02, 4.700e+01, 5.000e+01, 6.200e+01, 3.300e+01, 1.120e+02,\n",
       "       2.300e+01, 3.000e+00, 9.400e+01, 6.000e+00, 8.000e+00, 1.400e+01,\n",
       "       7.000e+00, 4.000e+01, 1.500e+01, 2.030e+02, 7.700e+01, 2.910e+02,\n",
       "       1.200e+02, 1.020e+02, 9.600e+01, 3.800e+01, 7.900e+01, 1.750e+02,\n",
       "       1.030e+02, 7.000e+01, 1.530e+02, 4.500e+01, 5.000e+00, 2.100e+01,\n",
       "       6.300e+01, 5.200e+01, 2.800e+01, 1.450e+02, 3.600e+01, 6.900e+01,\n",
       "       6.000e+01, 1.780e+02, 1.140e+02, 3.500e+01, 6.100e+01, 3.400e+01,\n",
       "       1.090e+02, 2.000e+01, 9.000e+00, 4.900e+01, 3.660e+02, 9.700e+01,\n",
       "       4.800e+01, 7.800e+01, 3.580e+02, 1.550e+02, 1.040e+02, 1.130e+02,\n",
       "       5.400e+01, 1.670e+02, 1.610e+02, 4.200e+01, 1.420e+02, 3.100e+01,\n",
       "       3.730e+02, 2.200e+02, 4.600e+01, 1.950e+02, 1.700e+01, 1.787e+03,\n",
       "       7.300e+01, 1.470e+02, 1.270e+02, 1.600e+01, 1.900e+01, 9.800e+01,\n",
       "       1.500e+02, 7.600e+01, 5.300e+01, 1.240e+02, 2.900e+01, 1.150e+02,\n",
       "       2.240e+02, 4.400e+01, 5.800e+01, 9.300e+01, 1.540e+02, 9.200e+01,\n",
       "       6.700e+01, 1.720e+02, 8.600e+01, 3.000e+01, 2.760e+02, 5.900e+01,\n",
       "       7.200e+01, 3.300e+02, 4.100e+01, 1.050e+02, 1.280e+02, 1.370e+02,\n",
       "       5.600e+01, 5.500e+01, 6.500e+01, 2.430e+02, 1.930e+02, 1.800e+01,\n",
       "       1.910e+02, 1.800e+02, 9.100e+01, 1.920e+02, 6.600e+01, 1.820e+02,\n",
       "       3.200e+01, 1.640e+02, 1.000e+02, 2.960e+02, 6.940e+02, 9.500e+01,\n",
       "       6.800e+01, 1.170e+02, 1.510e+02, 1.300e+02, 8.700e+01, 1.700e+02,\n",
       "       1.190e+02, 8.400e+01, 1.080e+02, 1.560e+02, 1.400e+02, 3.310e+02,\n",
       "       3.050e+02, 3.000e+02, 5.100e+02, 2.000e+02, 8.800e+01, 1.471e+03,\n",
       "       5.260e+02, 1.430e+02, 7.260e+02, 1.360e+02, 1.818e+03, 2.370e+02,\n",
       "       1.428e+03, 3.650e+02, 1.630e+02, 2.830e+02, 7.100e+01, 2.600e+02,\n",
       "       1.990e+02, 2.250e+02, 3.120e+02, 2.400e+02, 1.306e+03, 1.565e+03,\n",
       "       7.730e+02, 1.274e+03, 9.000e+01, 4.750e+02, 2.630e+02, 8.300e+01,\n",
       "       8.500e+01, 1.006e+03, 8.000e+01, 1.620e+02, 1.320e+02, 1.410e+02,\n",
       "       1.250e+02])"
      ]
     },
     "execution_count": 22,
     "metadata": {},
     "output_type": "execute_result"
    }
   ],
   "source": [
    "data['episodes'].unique()  # unique values in episodes column"
   ]
  },
  {
   "cell_type": "code",
   "execution_count": 23,
   "id": "cebe4e99",
   "metadata": {},
   "outputs": [],
   "source": [
    "#data['episodes'] = data['episodes'].astype('int64')  # conversion of float64 into int64\n",
    "# we get error because nan can't be converted into integer. So, first handle null values"
   ]
  },
  {
   "cell_type": "code",
   "execution_count": 24,
   "id": "b99ef43f",
   "metadata": {},
   "outputs": [
    {
     "data": {
      "text/plain": [
       "anime_id      0\n",
       "name          0\n",
       "genre         0\n",
       "type          0\n",
       "episodes    340\n",
       "rating        0\n",
       "members       0\n",
       "dtype: int64"
      ]
     },
     "execution_count": 24,
     "metadata": {},
     "output_type": "execute_result"
    }
   ],
   "source": [
    "data.isnull().sum()  # 340 null values in episodes column"
   ]
  },
  {
   "cell_type": "markdown",
   "id": "43b93a89",
   "metadata": {},
   "source": [
    "we can treat null values of column episodes using mean"
   ]
  },
  {
   "cell_type": "code",
   "execution_count": 25,
   "id": "f97ac93d",
   "metadata": {},
   "outputs": [],
   "source": [
    "mean=data['episodes'].mean() #calculate mean of col episodes and save in var. mean"
   ]
  },
  {
   "cell_type": "code",
   "execution_count": 26,
   "id": "79c62419",
   "metadata": {},
   "outputs": [
    {
     "data": {
      "text/plain": [
       "12.382549774134182"
      ]
     },
     "execution_count": 26,
     "metadata": {},
     "output_type": "execute_result"
    }
   ],
   "source": [
    "mean"
   ]
  },
  {
   "cell_type": "code",
   "execution_count": 27,
   "id": "bb113f33",
   "metadata": {},
   "outputs": [],
   "source": [
    "data['episodes'].fillna(mean,inplace=True)  #fill missing values of column episodes with mean"
   ]
  },
  {
   "cell_type": "code",
   "execution_count": 28,
   "id": "173c6cea",
   "metadata": {},
   "outputs": [
    {
     "data": {
      "text/plain": [
       "anime_id    0\n",
       "name        0\n",
       "genre       0\n",
       "type        0\n",
       "episodes    0\n",
       "rating      0\n",
       "members     0\n",
       "dtype: int64"
      ]
     },
     "execution_count": 28,
     "metadata": {},
     "output_type": "execute_result"
    }
   ],
   "source": [
    "data.isnull().sum() # no. of null values in col episodes have become zero now because they are filled with mean value"
   ]
  },
  {
   "cell_type": "code",
   "execution_count": 29,
   "id": "a7598d7c",
   "metadata": {},
   "outputs": [
    {
     "data": {
      "text/plain": [
       "dtype('float64')"
      ]
     },
     "execution_count": 29,
     "metadata": {},
     "output_type": "execute_result"
    }
   ],
   "source": [
    "data['episodes'].dtypes"
   ]
  },
  {
   "cell_type": "code",
   "execution_count": 30,
   "id": "d55ae7d0",
   "metadata": {},
   "outputs": [],
   "source": [
    "data['episodes'] = data['episodes'].astype('int64')  # conversion of float64 into int64"
   ]
  },
  {
   "cell_type": "code",
   "execution_count": 31,
   "id": "c80d0d80",
   "metadata": {},
   "outputs": [
    {
     "data": {
      "text/plain": [
       "dtype('int64')"
      ]
     },
     "execution_count": 31,
     "metadata": {},
     "output_type": "execute_result"
    }
   ],
   "source": [
    "data['episodes'].dtypes"
   ]
  },
  {
   "cell_type": "code",
   "execution_count": 32,
   "id": "cbf73258",
   "metadata": {},
   "outputs": [
    {
     "data": {
      "text/plain": [
       "array([   1,   64,   51,   24,   10,  148,  110,   13,  201,   25,   22,\n",
       "         75,    4,   26,   12,   27,   43,   74,   37,    2,   11,   99,\n",
       "         39,  101,   47,   50,   62,   33,  112,   23,    3,   94,    6,\n",
       "          8,   14,    7,   40,   15,  203,   77,  291,  120,  102,   96,\n",
       "         38,   79,  175,  103,   70,  153,   45,    5,   21,   63,   52,\n",
       "         28,  145,   36,   69,   60,  178,  114,   35,   61,   34,  109,\n",
       "         20,    9,   49,  366,   97,   48,   78,  358,  155,  104,  113,\n",
       "         54,  167,  161,   42,  142,   31,  373,  220,   46,  195,   17,\n",
       "       1787,   73,  147,  127,   16,   19,   98,  150,   76,   53,  124,\n",
       "         29,  115,  224,   44,   58,   93,  154,   92,   67,  172,   86,\n",
       "         30,  276,   59,   72,  330,   41,  105,  128,  137,   56,   55,\n",
       "         65,  243,  193,   18,  191,  180,   91,  192,   66,  182,   32,\n",
       "        164,  100,  296,  694,   95,   68,  117,  151,  130,   87,  170,\n",
       "        119,   84,  108,  156,  140,  331,  305,  300,  510,  200,   88,\n",
       "       1471,  526,  143,  726,  136, 1818,  237, 1428,  365,  163,  283,\n",
       "         71,  260,  199,  225,  312,  240, 1306, 1565,  773, 1274,   90,\n",
       "        475,  263,   83,   85, 1006,   80,  162,  132,  141,  125],\n",
       "      dtype=int64)"
      ]
     },
     "execution_count": 32,
     "metadata": {},
     "output_type": "execute_result"
    }
   ],
   "source": [
    "data['episodes'].unique()"
   ]
  },
  {
   "cell_type": "code",
   "execution_count": 33,
   "id": "3cd09ec5",
   "metadata": {},
   "outputs": [
    {
     "data": {
      "text/plain": [
       "anime_id      int64\n",
       "name         object\n",
       "genre        object\n",
       "type         object\n",
       "episodes      int64\n",
       "rating      float64\n",
       "members       int64\n",
       "dtype: object"
      ]
     },
     "execution_count": 33,
     "metadata": {},
     "output_type": "execute_result"
    }
   ],
   "source": [
    "data.dtypes"
   ]
  },
  {
   "cell_type": "code",
   "execution_count": 34,
   "id": "842720ec",
   "metadata": {},
   "outputs": [
    {
     "data": {
      "text/html": [
       "<div>\n",
       "<style scoped>\n",
       "    .dataframe tbody tr th:only-of-type {\n",
       "        vertical-align: middle;\n",
       "    }\n",
       "\n",
       "    .dataframe tbody tr th {\n",
       "        vertical-align: top;\n",
       "    }\n",
       "\n",
       "    .dataframe thead th {\n",
       "        text-align: right;\n",
       "    }\n",
       "</style>\n",
       "<table border=\"1\" class=\"dataframe\">\n",
       "  <thead>\n",
       "    <tr style=\"text-align: right;\">\n",
       "      <th></th>\n",
       "      <th>anime_id</th>\n",
       "      <th>name</th>\n",
       "      <th>genre</th>\n",
       "      <th>type</th>\n",
       "      <th>episodes</th>\n",
       "      <th>rating</th>\n",
       "      <th>members</th>\n",
       "    </tr>\n",
       "  </thead>\n",
       "  <tbody>\n",
       "    <tr>\n",
       "      <th>0</th>\n",
       "      <td>32281</td>\n",
       "      <td>Kimi no Na wa.</td>\n",
       "      <td>Drama, Romance, School, Supernatural</td>\n",
       "      <td>Movie</td>\n",
       "      <td>1</td>\n",
       "      <td>9.37</td>\n",
       "      <td>200630</td>\n",
       "    </tr>\n",
       "    <tr>\n",
       "      <th>1</th>\n",
       "      <td>5114</td>\n",
       "      <td>Fullmetal Alchemist: Brotherhood</td>\n",
       "      <td>Action, Adventure, Drama, Fantasy, Magic, Mili...</td>\n",
       "      <td>TV</td>\n",
       "      <td>64</td>\n",
       "      <td>9.26</td>\n",
       "      <td>793665</td>\n",
       "    </tr>\n",
       "    <tr>\n",
       "      <th>2</th>\n",
       "      <td>28977</td>\n",
       "      <td>Gintama°</td>\n",
       "      <td>Action, Comedy, Historical, Parody, Samurai, S...</td>\n",
       "      <td>TV</td>\n",
       "      <td>51</td>\n",
       "      <td>9.25</td>\n",
       "      <td>114262</td>\n",
       "    </tr>\n",
       "    <tr>\n",
       "      <th>3</th>\n",
       "      <td>9253</td>\n",
       "      <td>Steins;Gate</td>\n",
       "      <td>Sci-Fi, Thriller</td>\n",
       "      <td>TV</td>\n",
       "      <td>24</td>\n",
       "      <td>9.17</td>\n",
       "      <td>673572</td>\n",
       "    </tr>\n",
       "    <tr>\n",
       "      <th>4</th>\n",
       "      <td>9969</td>\n",
       "      <td>Gintama&amp;#039;</td>\n",
       "      <td>Action, Comedy, Historical, Parody, Samurai, S...</td>\n",
       "      <td>TV</td>\n",
       "      <td>51</td>\n",
       "      <td>9.16</td>\n",
       "      <td>151266</td>\n",
       "    </tr>\n",
       "  </tbody>\n",
       "</table>\n",
       "</div>"
      ],
      "text/plain": [
       "   anime_id                              name  \\\n",
       "0     32281                    Kimi no Na wa.   \n",
       "1      5114  Fullmetal Alchemist: Brotherhood   \n",
       "2     28977                          Gintama°   \n",
       "3      9253                       Steins;Gate   \n",
       "4      9969                     Gintama&#039;   \n",
       "\n",
       "                                               genre   type  episodes  rating  \\\n",
       "0               Drama, Romance, School, Supernatural  Movie         1    9.37   \n",
       "1  Action, Adventure, Drama, Fantasy, Magic, Mili...     TV        64    9.26   \n",
       "2  Action, Comedy, Historical, Parody, Samurai, S...     TV        51    9.25   \n",
       "3                                   Sci-Fi, Thriller     TV        24    9.17   \n",
       "4  Action, Comedy, Historical, Parody, Samurai, S...     TV        51    9.16   \n",
       "\n",
       "   members  \n",
       "0   200630  \n",
       "1   793665  \n",
       "2   114262  \n",
       "3   673572  \n",
       "4   151266  "
      ]
     },
     "execution_count": 34,
     "metadata": {},
     "output_type": "execute_result"
    }
   ],
   "source": [
    "data.head()"
   ]
  },
  {
   "cell_type": "markdown",
   "id": "bf7e5b6f",
   "metadata": {},
   "source": [
    "# Feature Extraction:"
   ]
  },
  {
   "cell_type": "code",
   "execution_count": 35,
   "id": "68215fd4",
   "metadata": {},
   "outputs": [
    {
     "data": {
      "text/plain": [
       "(12294, 7)"
      ]
     },
     "execution_count": 35,
     "metadata": {},
     "output_type": "execute_result"
    }
   ],
   "source": [
    "data.shape"
   ]
  },
  {
   "cell_type": "markdown",
   "id": "b0776a31",
   "metadata": {},
   "source": [
    "since, too many entries (12294) in our dataframe, so, filter down to the members who gave rating more than one time"
   ]
  },
  {
   "cell_type": "code",
   "execution_count": 36,
   "id": "56d1308f",
   "metadata": {},
   "outputs": [
    {
     "data": {
      "text/plain": [
       "members\n",
       "5          1\n",
       "11         1\n",
       "12         1\n",
       "13         2\n",
       "15         1\n",
       "          ..\n",
       "717796     1\n",
       "793665     1\n",
       "893100     1\n",
       "896229     1\n",
       "1013917    1\n",
       "Name: rating, Length: 6706, dtype: int64"
      ]
     },
     "execution_count": 36,
     "metadata": {},
     "output_type": "execute_result"
    }
   ],
   "source": [
    "# groupby func groups members and rating to count no. of times each member has given rating\n",
    "\n",
    "data.groupby('members').count()['rating']  # count no. of rating for each member"
   ]
  },
  {
   "cell_type": "code",
   "execution_count": 37,
   "id": "ca554435",
   "metadata": {},
   "outputs": [],
   "source": [
    "x = data.groupby('members').count()['rating'] > 1 # if no. of rating for each member > 1, then True else False"
   ]
  },
  {
   "cell_type": "code",
   "execution_count": 38,
   "id": "efb7c7bd",
   "metadata": {},
   "outputs": [
    {
     "data": {
      "text/plain": [
       "members\n",
       "5          False\n",
       "11         False\n",
       "12         False\n",
       "13          True\n",
       "15         False\n",
       "           ...  \n",
       "717796     False\n",
       "793665     False\n",
       "893100     False\n",
       "896229     False\n",
       "1013917    False\n",
       "Name: rating, Length: 6706, dtype: bool"
      ]
     },
     "execution_count": 38,
     "metadata": {},
     "output_type": "execute_result"
    }
   ],
   "source": [
    "x    "
   ]
  },
  {
   "cell_type": "code",
   "execution_count": 39,
   "id": "691b537d",
   "metadata": {},
   "outputs": [
    {
     "data": {
      "text/plain": [
       "members\n",
       "13        True\n",
       "20        True\n",
       "21        True\n",
       "22        True\n",
       "24        True\n",
       "          ... \n",
       "61410     True\n",
       "70559     True\n",
       "94820     True\n",
       "97674     True\n",
       "184525    True\n",
       "Name: rating, Length: 1636, dtype: bool"
      ]
     },
     "execution_count": 39,
     "metadata": {},
     "output_type": "execute_result"
    }
   ],
   "source": [
    "x[x]  # display only True values of rating in x "
   ]
  },
  {
   "cell_type": "code",
   "execution_count": 40,
   "id": "0537ae92",
   "metadata": {},
   "outputs": [],
   "source": [
    "good_members = x[x].index  # display only True values of members in x i.e. these are the members who gave rating more than one time"
   ]
  },
  {
   "cell_type": "code",
   "execution_count": 41,
   "id": "ae9175d8",
   "metadata": {},
   "outputs": [
    {
     "data": {
      "text/plain": [
       "Int64Index([    13,     20,     21,     22,     24,     25,     26,     29,\n",
       "                30,     31,\n",
       "            ...\n",
       "             34177,  37792,  44030,  47587,  59815,  61410,  70559,  94820,\n",
       "             97674, 184525],\n",
       "           dtype='int64', name='members', length=1636)"
      ]
     },
     "execution_count": 41,
     "metadata": {},
     "output_type": "execute_result"
    }
   ],
   "source": [
    "good_members"
   ]
  },
  {
   "cell_type": "markdown",
   "id": "32d44084",
   "metadata": {},
   "source": [
    "Let's represent these members in a dataframe using isin()"
   ]
  },
  {
   "cell_type": "code",
   "execution_count": 42,
   "id": "477cc8f3",
   "metadata": {},
   "outputs": [
    {
     "data": {
      "text/plain": [
       "0        False\n",
       "1        False\n",
       "2        False\n",
       "3        False\n",
       "4        False\n",
       "         ...  \n",
       "12289     True\n",
       "12290     True\n",
       "12291     True\n",
       "12292     True\n",
       "12293     True\n",
       "Name: members, Length: 12294, dtype: bool"
      ]
     },
     "execution_count": 42,
     "metadata": {},
     "output_type": "execute_result"
    }
   ],
   "source": [
    "data['members'].isin(good_members)"
   ]
  },
  {
   "cell_type": "code",
   "execution_count": 43,
   "id": "62b471f6",
   "metadata": {},
   "outputs": [],
   "source": [
    "df_good_members = data[data['members'].isin(good_members)] #False replaced by NaN and True replaced by original values in this dataframe"
   ]
  },
  {
   "cell_type": "code",
   "execution_count": 44,
   "id": "5ab78c30",
   "metadata": {},
   "outputs": [
    {
     "data": {
      "text/html": [
       "<div>\n",
       "<style scoped>\n",
       "    .dataframe tbody tr th:only-of-type {\n",
       "        vertical-align: middle;\n",
       "    }\n",
       "\n",
       "    .dataframe tbody tr th {\n",
       "        vertical-align: top;\n",
       "    }\n",
       "\n",
       "    .dataframe thead th {\n",
       "        text-align: right;\n",
       "    }\n",
       "</style>\n",
       "<table border=\"1\" class=\"dataframe\">\n",
       "  <thead>\n",
       "    <tr style=\"text-align: right;\">\n",
       "      <th></th>\n",
       "      <th>anime_id</th>\n",
       "      <th>name</th>\n",
       "      <th>genre</th>\n",
       "      <th>type</th>\n",
       "      <th>episodes</th>\n",
       "      <th>rating</th>\n",
       "      <th>members</th>\n",
       "    </tr>\n",
       "  </thead>\n",
       "  <tbody>\n",
       "    <tr>\n",
       "      <th>58</th>\n",
       "      <td>24415</td>\n",
       "      <td>Kuroko no Basket 3rd Season</td>\n",
       "      <td>Comedy, School, Shounen, Sports</td>\n",
       "      <td>TV</td>\n",
       "      <td>25</td>\n",
       "      <td>8.62</td>\n",
       "      <td>184525</td>\n",
       "    </tr>\n",
       "    <tr>\n",
       "      <th>89</th>\n",
       "      <td>30346</td>\n",
       "      <td>Doukyuusei (Movie)</td>\n",
       "      <td>Romance, School, Shounen Ai, Slice of Life</td>\n",
       "      <td>Movie</td>\n",
       "      <td>1</td>\n",
       "      <td>8.53</td>\n",
       "      <td>28864</td>\n",
       "    </tr>\n",
       "    <tr>\n",
       "      <th>108</th>\n",
       "      <td>7655</td>\n",
       "      <td>Major S6</td>\n",
       "      <td>Comedy, Drama, Sports</td>\n",
       "      <td>TV</td>\n",
       "      <td>25</td>\n",
       "      <td>8.49</td>\n",
       "      <td>24788</td>\n",
       "    </tr>\n",
       "    <tr>\n",
       "      <th>137</th>\n",
       "      <td>1365</td>\n",
       "      <td>Detective Conan Movie 06: The Phantom of Baker...</td>\n",
       "      <td>Adventure, Mystery, Police, Shounen</td>\n",
       "      <td>Movie</td>\n",
       "      <td>1</td>\n",
       "      <td>8.42</td>\n",
       "      <td>28462</td>\n",
       "    </tr>\n",
       "    <tr>\n",
       "      <th>140</th>\n",
       "      <td>10937</td>\n",
       "      <td>Mobile Suit Gundam: The Origin</td>\n",
       "      <td>Action, Mecha, Military, Sci-Fi, Shounen, Space</td>\n",
       "      <td>OVA</td>\n",
       "      <td>6</td>\n",
       "      <td>8.42</td>\n",
       "      <td>15420</td>\n",
       "    </tr>\n",
       "    <tr>\n",
       "      <th>...</th>\n",
       "      <td>...</td>\n",
       "      <td>...</td>\n",
       "      <td>...</td>\n",
       "      <td>...</td>\n",
       "      <td>...</td>\n",
       "      <td>...</td>\n",
       "      <td>...</td>\n",
       "    </tr>\n",
       "    <tr>\n",
       "      <th>12289</th>\n",
       "      <td>9316</td>\n",
       "      <td>Toushindai My Lover: Minami tai Mecha-Minami</td>\n",
       "      <td>Hentai</td>\n",
       "      <td>OVA</td>\n",
       "      <td>1</td>\n",
       "      <td>4.15</td>\n",
       "      <td>211</td>\n",
       "    </tr>\n",
       "    <tr>\n",
       "      <th>12290</th>\n",
       "      <td>5543</td>\n",
       "      <td>Under World</td>\n",
       "      <td>Hentai</td>\n",
       "      <td>OVA</td>\n",
       "      <td>1</td>\n",
       "      <td>4.28</td>\n",
       "      <td>183</td>\n",
       "    </tr>\n",
       "    <tr>\n",
       "      <th>12291</th>\n",
       "      <td>5621</td>\n",
       "      <td>Violence Gekiga David no Hoshi</td>\n",
       "      <td>Hentai</td>\n",
       "      <td>OVA</td>\n",
       "      <td>4</td>\n",
       "      <td>4.88</td>\n",
       "      <td>219</td>\n",
       "    </tr>\n",
       "    <tr>\n",
       "      <th>12292</th>\n",
       "      <td>6133</td>\n",
       "      <td>Violence Gekiga Shin David no Hoshi: Inma Dens...</td>\n",
       "      <td>Hentai</td>\n",
       "      <td>OVA</td>\n",
       "      <td>1</td>\n",
       "      <td>4.98</td>\n",
       "      <td>175</td>\n",
       "    </tr>\n",
       "    <tr>\n",
       "      <th>12293</th>\n",
       "      <td>26081</td>\n",
       "      <td>Yasuji no Pornorama: Yacchimae!!</td>\n",
       "      <td>Hentai</td>\n",
       "      <td>Movie</td>\n",
       "      <td>1</td>\n",
       "      <td>5.46</td>\n",
       "      <td>142</td>\n",
       "    </tr>\n",
       "  </tbody>\n",
       "</table>\n",
       "<p>7224 rows × 7 columns</p>\n",
       "</div>"
      ],
      "text/plain": [
       "       anime_id                                               name  \\\n",
       "58        24415                        Kuroko no Basket 3rd Season   \n",
       "89        30346                                 Doukyuusei (Movie)   \n",
       "108        7655                                           Major S6   \n",
       "137        1365  Detective Conan Movie 06: The Phantom of Baker...   \n",
       "140       10937                     Mobile Suit Gundam: The Origin   \n",
       "...         ...                                                ...   \n",
       "12289      9316       Toushindai My Lover: Minami tai Mecha-Minami   \n",
       "12290      5543                                        Under World   \n",
       "12291      5621                     Violence Gekiga David no Hoshi   \n",
       "12292      6133  Violence Gekiga Shin David no Hoshi: Inma Dens...   \n",
       "12293     26081                   Yasuji no Pornorama: Yacchimae!!   \n",
       "\n",
       "                                                 genre   type  episodes  \\\n",
       "58                     Comedy, School, Shounen, Sports     TV        25   \n",
       "89          Romance, School, Shounen Ai, Slice of Life  Movie         1   \n",
       "108                              Comedy, Drama, Sports     TV        25   \n",
       "137                Adventure, Mystery, Police, Shounen  Movie         1   \n",
       "140    Action, Mecha, Military, Sci-Fi, Shounen, Space    OVA         6   \n",
       "...                                                ...    ...       ...   \n",
       "12289                                           Hentai    OVA         1   \n",
       "12290                                           Hentai    OVA         1   \n",
       "12291                                           Hentai    OVA         4   \n",
       "12292                                           Hentai    OVA         1   \n",
       "12293                                           Hentai  Movie         1   \n",
       "\n",
       "       rating  members  \n",
       "58       8.62   184525  \n",
       "89       8.53    28864  \n",
       "108      8.49    24788  \n",
       "137      8.42    28462  \n",
       "140      8.42    15420  \n",
       "...       ...      ...  \n",
       "12289    4.15      211  \n",
       "12290    4.28      183  \n",
       "12291    4.88      219  \n",
       "12292    4.98      175  \n",
       "12293    5.46      142  \n",
       "\n",
       "[7224 rows x 7 columns]"
      ]
     },
     "execution_count": 44,
     "metadata": {},
     "output_type": "execute_result"
    }
   ],
   "source": [
    "df_good_members"
   ]
  },
  {
   "cell_type": "markdown",
   "id": "06e073bd",
   "metadata": {},
   "source": [
    "entries in this dataframe have reduced from 12,294 to 7,224 . Let's further filter down to the genre that received rating atleast 10 times"
   ]
  },
  {
   "cell_type": "code",
   "execution_count": 45,
   "id": "690162d7",
   "metadata": {},
   "outputs": [
    {
     "data": {
      "text/plain": [
       "genre\n",
       "Action                                                     43\n",
       "Action, Adventure                                          13\n",
       "Action, Adventure, Cars, Comedy, Sci-Fi, Shounen            1\n",
       "Action, Adventure, Cars, Mecha, Sci-Fi, Shounen, Sports     1\n",
       "Action, Adventure, Comedy                                   8\n",
       "                                                           ..\n",
       "Super Power, Supernatural, Vampire                          1\n",
       "Supernatural                                               12\n",
       "Thriller                                                    1\n",
       "Vampire                                                     1\n",
       "Yaoi                                                        2\n",
       "Name: rating, Length: 1752, dtype: int64"
      ]
     },
     "execution_count": 45,
     "metadata": {},
     "output_type": "execute_result"
    }
   ],
   "source": [
    "df_good_members.groupby('genre').count()['rating'] # count no. of rating for each genre"
   ]
  },
  {
   "cell_type": "code",
   "execution_count": 46,
   "id": "f119c004",
   "metadata": {},
   "outputs": [],
   "source": [
    "y = df_good_members.groupby('genre').count()['rating'] >=10 # if no. of rating for each genre >=10, True else False"
   ]
  },
  {
   "cell_type": "code",
   "execution_count": 47,
   "id": "aadf5151",
   "metadata": {},
   "outputs": [
    {
     "data": {
      "text/plain": [
       "genre\n",
       "Action                                                      True\n",
       "Action, Adventure                                           True\n",
       "Action, Adventure, Cars, Comedy, Sci-Fi, Shounen           False\n",
       "Action, Adventure, Cars, Mecha, Sci-Fi, Shounen, Sports    False\n",
       "Action, Adventure, Comedy                                  False\n",
       "                                                           ...  \n",
       "Super Power, Supernatural, Vampire                         False\n",
       "Supernatural                                                True\n",
       "Thriller                                                   False\n",
       "Vampire                                                    False\n",
       "Yaoi                                                       False\n",
       "Name: rating, Length: 1752, dtype: bool"
      ]
     },
     "execution_count": 47,
     "metadata": {},
     "output_type": "execute_result"
    }
   ],
   "source": [
    "y"
   ]
  },
  {
   "cell_type": "code",
   "execution_count": 48,
   "id": "fb134a1a",
   "metadata": {},
   "outputs": [
    {
     "data": {
      "text/plain": [
       "genre\n",
       "Action                                True\n",
       "Action, Adventure                     True\n",
       "Action, Adventure, Comedy, Shounen    True\n",
       "Action, Adventure, Fantasy            True\n",
       "Action, Adventure, Mecha, Sci-Fi      True\n",
       "                                      ... \n",
       "Sci-Fi, Space                         True\n",
       "Shounen, Sports                       True\n",
       "Slice of Life                         True\n",
       "Sports                                True\n",
       "Supernatural                          True\n",
       "Name: rating, Length: 90, dtype: bool"
      ]
     },
     "execution_count": 48,
     "metadata": {},
     "output_type": "execute_result"
    }
   ],
   "source": [
    "y[y]  # display only True values of rating in y "
   ]
  },
  {
   "cell_type": "code",
   "execution_count": 49,
   "id": "8be6f1bc",
   "metadata": {},
   "outputs": [],
   "source": [
    "famous_genre = y[y].index # display only True values of genre in y i.e. these are the genre that received rating atleast 10 times"
   ]
  },
  {
   "cell_type": "code",
   "execution_count": 50,
   "id": "85393c3c",
   "metadata": {},
   "outputs": [
    {
     "data": {
      "text/plain": [
       "Index(['Action', 'Action, Adventure', 'Action, Adventure, Comedy, Shounen',\n",
       "       'Action, Adventure, Fantasy', 'Action, Adventure, Mecha, Sci-Fi',\n",
       "       'Action, Adventure, Sci-Fi', 'Action, Comedy',\n",
       "       'Action, Comedy, Shounen, Sports',\n",
       "       'Action, Drama, Mecha, Military, Sci-Fi', 'Action, Fantasy',\n",
       "       'Action, Mecha', 'Action, Mecha, Sci-Fi',\n",
       "       'Action, Mecha, Sci-Fi, Shounen', 'Action, Sci-Fi',\n",
       "       'Action, Shounen, Sports', 'Adventure', 'Adventure, Comedy',\n",
       "       'Adventure, Comedy, Fantasy', 'Adventure, Comedy, Fantasy, Kids',\n",
       "       'Adventure, Comedy, Fantasy, Kids, Shounen', 'Adventure, Comedy, Kids',\n",
       "       'Adventure, Drama', 'Adventure, Fantasy', 'Adventure, Fantasy, Kids',\n",
       "       'Adventure, Kids', 'Adventure, Mecha, Sci-Fi, Shounen',\n",
       "       'Adventure, Sci-Fi', 'Comedy', 'Comedy, Ecchi',\n",
       "       'Comedy, Ecchi, Kids, School, Shounen, Slice of Life',\n",
       "       'Comedy, Fantasy', 'Comedy, Fantasy, Kids', 'Comedy, Historical',\n",
       "       'Comedy, Kids', 'Comedy, Kids, Slice of Life', 'Comedy, Magic, Shoujo',\n",
       "       'Comedy, Music', 'Comedy, Parody', 'Comedy, Parody, Super Power',\n",
       "       'Comedy, Police', 'Comedy, Romance', 'Comedy, School',\n",
       "       'Comedy, School, Shounen, Sports', 'Comedy, School, Slice of Life',\n",
       "       'Comedy, Sci-Fi', 'Comedy, Sci-Fi, Shounen', 'Comedy, Seinen',\n",
       "       'Comedy, Seinen, Slice of Life', 'Comedy, Shounen',\n",
       "       'Comedy, Slice of Life', 'Comedy, Sports', 'Dementia',\n",
       "       'Dementia, Music', 'Drama', 'Drama, Fantasy, Kids', 'Drama, Historical',\n",
       "       'Drama, Historical, Kids', 'Drama, Historical, Slice of Life',\n",
       "       'Drama, Kids', 'Drama, Music', 'Drama, Romance', 'Drama, Slice of Life',\n",
       "       'Drama, Sports', 'Fantasy', 'Fantasy, Kids', 'Fantasy, Magic, Shoujo',\n",
       "       'Fantasy, Music', 'Hentai', 'Hentai, School', 'Hentai, Yuri',\n",
       "       'Historical', 'Historical, Kids', 'Horror', 'Kids', 'Kids, Music',\n",
       "       'Kids, Slice of Life', 'Kids, Sports', 'Magic', 'Mecha',\n",
       "       'Mecha, Sci-Fi', 'Music', 'Mystery', 'Psychological', 'Romance',\n",
       "       'Sci-Fi', 'Sci-Fi, Space', 'Shounen, Sports', 'Slice of Life', 'Sports',\n",
       "       'Supernatural'],\n",
       "      dtype='object', name='genre')"
      ]
     },
     "execution_count": 50,
     "metadata": {},
     "output_type": "execute_result"
    }
   ],
   "source": [
    "famous_genre"
   ]
  },
  {
   "cell_type": "markdown",
   "id": "6d368989",
   "metadata": {},
   "source": [
    "Let's represent these genre in a dataframe using isin()"
   ]
  },
  {
   "cell_type": "code",
   "execution_count": 51,
   "id": "f542396c",
   "metadata": {},
   "outputs": [
    {
     "data": {
      "text/plain": [
       "58        True\n",
       "89       False\n",
       "108      False\n",
       "137      False\n",
       "140      False\n",
       "         ...  \n",
       "12289     True\n",
       "12290     True\n",
       "12291     True\n",
       "12292     True\n",
       "12293     True\n",
       "Name: genre, Length: 7224, dtype: bool"
      ]
     },
     "execution_count": 51,
     "metadata": {},
     "output_type": "execute_result"
    }
   ],
   "source": [
    "df_good_members['genre'].isin(famous_genre)"
   ]
  },
  {
   "cell_type": "code",
   "execution_count": 52,
   "id": "4380e461",
   "metadata": {},
   "outputs": [],
   "source": [
    "final_df = df_good_members[df_good_members['genre'].isin(famous_genre)]"
   ]
  },
  {
   "cell_type": "code",
   "execution_count": 53,
   "id": "edcf95b2",
   "metadata": {},
   "outputs": [
    {
     "data": {
      "text/html": [
       "<div>\n",
       "<style scoped>\n",
       "    .dataframe tbody tr th:only-of-type {\n",
       "        vertical-align: middle;\n",
       "    }\n",
       "\n",
       "    .dataframe tbody tr th {\n",
       "        vertical-align: top;\n",
       "    }\n",
       "\n",
       "    .dataframe thead th {\n",
       "        text-align: right;\n",
       "    }\n",
       "</style>\n",
       "<table border=\"1\" class=\"dataframe\">\n",
       "  <thead>\n",
       "    <tr style=\"text-align: right;\">\n",
       "      <th></th>\n",
       "      <th>anime_id</th>\n",
       "      <th>name</th>\n",
       "      <th>genre</th>\n",
       "      <th>type</th>\n",
       "      <th>episodes</th>\n",
       "      <th>rating</th>\n",
       "      <th>members</th>\n",
       "    </tr>\n",
       "  </thead>\n",
       "  <tbody>\n",
       "    <tr>\n",
       "      <th>58</th>\n",
       "      <td>24415</td>\n",
       "      <td>Kuroko no Basket 3rd Season</td>\n",
       "      <td>Comedy, School, Shounen, Sports</td>\n",
       "      <td>TV</td>\n",
       "      <td>25</td>\n",
       "      <td>8.62</td>\n",
       "      <td>184525</td>\n",
       "    </tr>\n",
       "    <tr>\n",
       "      <th>421</th>\n",
       "      <td>32613</td>\n",
       "      <td>Elsword: El Lady</td>\n",
       "      <td>Action, Fantasy</td>\n",
       "      <td>ONA</td>\n",
       "      <td>12</td>\n",
       "      <td>8.11</td>\n",
       "      <td>3846</td>\n",
       "    </tr>\n",
       "    <tr>\n",
       "      <th>678</th>\n",
       "      <td>11237</td>\n",
       "      <td>Hidamari Sketch x SP</td>\n",
       "      <td>Comedy, School, Slice of Life</td>\n",
       "      <td>Special</td>\n",
       "      <td>2</td>\n",
       "      <td>7.90</td>\n",
       "      <td>7999</td>\n",
       "    </tr>\n",
       "    <tr>\n",
       "      <th>725</th>\n",
       "      <td>33446</td>\n",
       "      <td>Huyao Xiao Hongniang: Yue Hong</td>\n",
       "      <td>Comedy, Romance</td>\n",
       "      <td>ONA</td>\n",
       "      <td>13</td>\n",
       "      <td>7.87</td>\n",
       "      <td>1043</td>\n",
       "    </tr>\n",
       "    <tr>\n",
       "      <th>749</th>\n",
       "      <td>22125</td>\n",
       "      <td>Kuroko no Basket: Mou Ikkai Yarimasen ka</td>\n",
       "      <td>Comedy, School, Shounen, Sports</td>\n",
       "      <td>Special</td>\n",
       "      <td>1</td>\n",
       "      <td>7.86</td>\n",
       "      <td>20397</td>\n",
       "    </tr>\n",
       "    <tr>\n",
       "      <th>...</th>\n",
       "      <td>...</td>\n",
       "      <td>...</td>\n",
       "      <td>...</td>\n",
       "      <td>...</td>\n",
       "      <td>...</td>\n",
       "      <td>...</td>\n",
       "      <td>...</td>\n",
       "    </tr>\n",
       "    <tr>\n",
       "      <th>12289</th>\n",
       "      <td>9316</td>\n",
       "      <td>Toushindai My Lover: Minami tai Mecha-Minami</td>\n",
       "      <td>Hentai</td>\n",
       "      <td>OVA</td>\n",
       "      <td>1</td>\n",
       "      <td>4.15</td>\n",
       "      <td>211</td>\n",
       "    </tr>\n",
       "    <tr>\n",
       "      <th>12290</th>\n",
       "      <td>5543</td>\n",
       "      <td>Under World</td>\n",
       "      <td>Hentai</td>\n",
       "      <td>OVA</td>\n",
       "      <td>1</td>\n",
       "      <td>4.28</td>\n",
       "      <td>183</td>\n",
       "    </tr>\n",
       "    <tr>\n",
       "      <th>12291</th>\n",
       "      <td>5621</td>\n",
       "      <td>Violence Gekiga David no Hoshi</td>\n",
       "      <td>Hentai</td>\n",
       "      <td>OVA</td>\n",
       "      <td>4</td>\n",
       "      <td>4.88</td>\n",
       "      <td>219</td>\n",
       "    </tr>\n",
       "    <tr>\n",
       "      <th>12292</th>\n",
       "      <td>6133</td>\n",
       "      <td>Violence Gekiga Shin David no Hoshi: Inma Dens...</td>\n",
       "      <td>Hentai</td>\n",
       "      <td>OVA</td>\n",
       "      <td>1</td>\n",
       "      <td>4.98</td>\n",
       "      <td>175</td>\n",
       "    </tr>\n",
       "    <tr>\n",
       "      <th>12293</th>\n",
       "      <td>26081</td>\n",
       "      <td>Yasuji no Pornorama: Yacchimae!!</td>\n",
       "      <td>Hentai</td>\n",
       "      <td>Movie</td>\n",
       "      <td>1</td>\n",
       "      <td>5.46</td>\n",
       "      <td>142</td>\n",
       "    </tr>\n",
       "  </tbody>\n",
       "</table>\n",
       "<p>4196 rows × 7 columns</p>\n",
       "</div>"
      ],
      "text/plain": [
       "       anime_id                                               name  \\\n",
       "58        24415                        Kuroko no Basket 3rd Season   \n",
       "421       32613                                   Elsword: El Lady   \n",
       "678       11237                               Hidamari Sketch x SP   \n",
       "725       33446                     Huyao Xiao Hongniang: Yue Hong   \n",
       "749       22125           Kuroko no Basket: Mou Ikkai Yarimasen ka   \n",
       "...         ...                                                ...   \n",
       "12289      9316       Toushindai My Lover: Minami tai Mecha-Minami   \n",
       "12290      5543                                        Under World   \n",
       "12291      5621                     Violence Gekiga David no Hoshi   \n",
       "12292      6133  Violence Gekiga Shin David no Hoshi: Inma Dens...   \n",
       "12293     26081                   Yasuji no Pornorama: Yacchimae!!   \n",
       "\n",
       "                                 genre     type  episodes  rating  members  \n",
       "58     Comedy, School, Shounen, Sports       TV        25    8.62   184525  \n",
       "421                    Action, Fantasy      ONA        12    8.11     3846  \n",
       "678      Comedy, School, Slice of Life  Special         2    7.90     7999  \n",
       "725                    Comedy, Romance      ONA        13    7.87     1043  \n",
       "749    Comedy, School, Shounen, Sports  Special         1    7.86    20397  \n",
       "...                                ...      ...       ...     ...      ...  \n",
       "12289                           Hentai      OVA         1    4.15      211  \n",
       "12290                           Hentai      OVA         1    4.28      183  \n",
       "12291                           Hentai      OVA         4    4.88      219  \n",
       "12292                           Hentai      OVA         1    4.98      175  \n",
       "12293                           Hentai    Movie         1    5.46      142  \n",
       "\n",
       "[4196 rows x 7 columns]"
      ]
     },
     "execution_count": 53,
     "metadata": {},
     "output_type": "execute_result"
    }
   ],
   "source": [
    "final_df #False replaced by NaN and True replaced by original values in this dataframe"
   ]
  },
  {
   "cell_type": "markdown",
   "id": "0a2047ac",
   "metadata": {},
   "source": [
    "entries in this dataframe further reduced to 4,196. Now, we can create a pivot table for this dataframe"
   ]
  },
  {
   "cell_type": "code",
   "execution_count": 54,
   "id": "665e415a",
   "metadata": {},
   "outputs": [],
   "source": [
    "# create a pivot table\n",
    "# make name as index column, anime_id as header, and rating as values\n",
    "pivot_table = final_df.pivot_table(index='name', columns= 'anime_id', values = 'rating')"
   ]
  },
  {
   "cell_type": "code",
   "execution_count": 55,
   "id": "cb3cf3e4",
   "metadata": {},
   "outputs": [
    {
     "data": {
      "text/html": [
       "<div>\n",
       "<style scoped>\n",
       "    .dataframe tbody tr th:only-of-type {\n",
       "        vertical-align: middle;\n",
       "    }\n",
       "\n",
       "    .dataframe tbody tr th {\n",
       "        vertical-align: top;\n",
       "    }\n",
       "\n",
       "    .dataframe thead th {\n",
       "        text-align: right;\n",
       "    }\n",
       "</style>\n",
       "<table border=\"1\" class=\"dataframe\">\n",
       "  <thead>\n",
       "    <tr style=\"text-align: right;\">\n",
       "      <th>anime_id</th>\n",
       "      <th>115</th>\n",
       "      <th>141</th>\n",
       "      <th>216</th>\n",
       "      <th>286</th>\n",
       "      <th>307</th>\n",
       "      <th>351</th>\n",
       "      <th>363</th>\n",
       "      <th>434</th>\n",
       "      <th>498</th>\n",
       "      <th>545</th>\n",
       "      <th>...</th>\n",
       "      <th>34474</th>\n",
       "      <th>34491</th>\n",
       "      <th>34492</th>\n",
       "      <th>34497</th>\n",
       "      <th>34498</th>\n",
       "      <th>34501</th>\n",
       "      <th>34503</th>\n",
       "      <th>34506</th>\n",
       "      <th>34519</th>\n",
       "      <th>34522</th>\n",
       "    </tr>\n",
       "    <tr>\n",
       "      <th>name</th>\n",
       "      <th></th>\n",
       "      <th></th>\n",
       "      <th></th>\n",
       "      <th></th>\n",
       "      <th></th>\n",
       "      <th></th>\n",
       "      <th></th>\n",
       "      <th></th>\n",
       "      <th></th>\n",
       "      <th></th>\n",
       "      <th></th>\n",
       "      <th></th>\n",
       "      <th></th>\n",
       "      <th></th>\n",
       "      <th></th>\n",
       "      <th></th>\n",
       "      <th></th>\n",
       "      <th></th>\n",
       "      <th></th>\n",
       "      <th></th>\n",
       "      <th></th>\n",
       "    </tr>\n",
       "  </thead>\n",
       "  <tbody>\n",
       "    <tr>\n",
       "      <th>&amp;quot;Aesop&amp;quot; no Ohanashi yori: Ushi to Kaeru, Yokubatta Inu</th>\n",
       "      <td>NaN</td>\n",
       "      <td>NaN</td>\n",
       "      <td>NaN</td>\n",
       "      <td>NaN</td>\n",
       "      <td>NaN</td>\n",
       "      <td>NaN</td>\n",
       "      <td>NaN</td>\n",
       "      <td>NaN</td>\n",
       "      <td>NaN</td>\n",
       "      <td>NaN</td>\n",
       "      <td>...</td>\n",
       "      <td>NaN</td>\n",
       "      <td>NaN</td>\n",
       "      <td>NaN</td>\n",
       "      <td>NaN</td>\n",
       "      <td>NaN</td>\n",
       "      <td>NaN</td>\n",
       "      <td>NaN</td>\n",
       "      <td>NaN</td>\n",
       "      <td>NaN</td>\n",
       "      <td>NaN</td>\n",
       "    </tr>\n",
       "    <tr>\n",
       "      <th>1</th>\n",
       "      <td>NaN</td>\n",
       "      <td>NaN</td>\n",
       "      <td>NaN</td>\n",
       "      <td>NaN</td>\n",
       "      <td>NaN</td>\n",
       "      <td>NaN</td>\n",
       "      <td>NaN</td>\n",
       "      <td>NaN</td>\n",
       "      <td>NaN</td>\n",
       "      <td>NaN</td>\n",
       "      <td>...</td>\n",
       "      <td>NaN</td>\n",
       "      <td>NaN</td>\n",
       "      <td>NaN</td>\n",
       "      <td>NaN</td>\n",
       "      <td>NaN</td>\n",
       "      <td>NaN</td>\n",
       "      <td>NaN</td>\n",
       "      <td>NaN</td>\n",
       "      <td>NaN</td>\n",
       "      <td>NaN</td>\n",
       "    </tr>\n",
       "    <tr>\n",
       "      <th>100%</th>\n",
       "      <td>NaN</td>\n",
       "      <td>NaN</td>\n",
       "      <td>NaN</td>\n",
       "      <td>NaN</td>\n",
       "      <td>NaN</td>\n",
       "      <td>NaN</td>\n",
       "      <td>NaN</td>\n",
       "      <td>NaN</td>\n",
       "      <td>NaN</td>\n",
       "      <td>NaN</td>\n",
       "      <td>...</td>\n",
       "      <td>NaN</td>\n",
       "      <td>NaN</td>\n",
       "      <td>NaN</td>\n",
       "      <td>NaN</td>\n",
       "      <td>NaN</td>\n",
       "      <td>NaN</td>\n",
       "      <td>NaN</td>\n",
       "      <td>NaN</td>\n",
       "      <td>NaN</td>\n",
       "      <td>NaN</td>\n",
       "    </tr>\n",
       "    <tr>\n",
       "      <th>100-man-nen Chikyuu no Tabi: Bander Book</th>\n",
       "      <td>NaN</td>\n",
       "      <td>NaN</td>\n",
       "      <td>NaN</td>\n",
       "      <td>NaN</td>\n",
       "      <td>NaN</td>\n",
       "      <td>NaN</td>\n",
       "      <td>NaN</td>\n",
       "      <td>NaN</td>\n",
       "      <td>NaN</td>\n",
       "      <td>NaN</td>\n",
       "      <td>...</td>\n",
       "      <td>NaN</td>\n",
       "      <td>NaN</td>\n",
       "      <td>NaN</td>\n",
       "      <td>NaN</td>\n",
       "      <td>NaN</td>\n",
       "      <td>NaN</td>\n",
       "      <td>NaN</td>\n",
       "      <td>NaN</td>\n",
       "      <td>NaN</td>\n",
       "      <td>NaN</td>\n",
       "    </tr>\n",
       "    <tr>\n",
       "      <th>11eyes Picture Drama</th>\n",
       "      <td>NaN</td>\n",
       "      <td>NaN</td>\n",
       "      <td>NaN</td>\n",
       "      <td>NaN</td>\n",
       "      <td>NaN</td>\n",
       "      <td>NaN</td>\n",
       "      <td>NaN</td>\n",
       "      <td>NaN</td>\n",
       "      <td>NaN</td>\n",
       "      <td>NaN</td>\n",
       "      <td>...</td>\n",
       "      <td>NaN</td>\n",
       "      <td>NaN</td>\n",
       "      <td>NaN</td>\n",
       "      <td>NaN</td>\n",
       "      <td>NaN</td>\n",
       "      <td>NaN</td>\n",
       "      <td>NaN</td>\n",
       "      <td>NaN</td>\n",
       "      <td>NaN</td>\n",
       "      <td>NaN</td>\n",
       "    </tr>\n",
       "    <tr>\n",
       "      <th>...</th>\n",
       "      <td>...</td>\n",
       "      <td>...</td>\n",
       "      <td>...</td>\n",
       "      <td>...</td>\n",
       "      <td>...</td>\n",
       "      <td>...</td>\n",
       "      <td>...</td>\n",
       "      <td>...</td>\n",
       "      <td>...</td>\n",
       "      <td>...</td>\n",
       "      <td>...</td>\n",
       "      <td>...</td>\n",
       "      <td>...</td>\n",
       "      <td>...</td>\n",
       "      <td>...</td>\n",
       "      <td>...</td>\n",
       "      <td>...</td>\n",
       "      <td>...</td>\n",
       "      <td>...</td>\n",
       "      <td>...</td>\n",
       "      <td>...</td>\n",
       "    </tr>\n",
       "    <tr>\n",
       "      <th>lilac (bombs Jun Togawa)</th>\n",
       "      <td>NaN</td>\n",
       "      <td>NaN</td>\n",
       "      <td>NaN</td>\n",
       "      <td>NaN</td>\n",
       "      <td>NaN</td>\n",
       "      <td>NaN</td>\n",
       "      <td>NaN</td>\n",
       "      <td>NaN</td>\n",
       "      <td>NaN</td>\n",
       "      <td>NaN</td>\n",
       "      <td>...</td>\n",
       "      <td>NaN</td>\n",
       "      <td>NaN</td>\n",
       "      <td>NaN</td>\n",
       "      <td>NaN</td>\n",
       "      <td>NaN</td>\n",
       "      <td>NaN</td>\n",
       "      <td>NaN</td>\n",
       "      <td>NaN</td>\n",
       "      <td>NaN</td>\n",
       "      <td>NaN</td>\n",
       "    </tr>\n",
       "    <tr>\n",
       "      <th>makemagic</th>\n",
       "      <td>NaN</td>\n",
       "      <td>NaN</td>\n",
       "      <td>NaN</td>\n",
       "      <td>NaN</td>\n",
       "      <td>NaN</td>\n",
       "      <td>NaN</td>\n",
       "      <td>NaN</td>\n",
       "      <td>NaN</td>\n",
       "      <td>NaN</td>\n",
       "      <td>NaN</td>\n",
       "      <td>...</td>\n",
       "      <td>NaN</td>\n",
       "      <td>NaN</td>\n",
       "      <td>NaN</td>\n",
       "      <td>NaN</td>\n",
       "      <td>NaN</td>\n",
       "      <td>NaN</td>\n",
       "      <td>NaN</td>\n",
       "      <td>NaN</td>\n",
       "      <td>NaN</td>\n",
       "      <td>NaN</td>\n",
       "    </tr>\n",
       "    <tr>\n",
       "      <th>on-chan, Yume Power Daibouken!</th>\n",
       "      <td>NaN</td>\n",
       "      <td>NaN</td>\n",
       "      <td>NaN</td>\n",
       "      <td>NaN</td>\n",
       "      <td>NaN</td>\n",
       "      <td>NaN</td>\n",
       "      <td>NaN</td>\n",
       "      <td>NaN</td>\n",
       "      <td>NaN</td>\n",
       "      <td>NaN</td>\n",
       "      <td>...</td>\n",
       "      <td>NaN</td>\n",
       "      <td>NaN</td>\n",
       "      <td>NaN</td>\n",
       "      <td>NaN</td>\n",
       "      <td>NaN</td>\n",
       "      <td>NaN</td>\n",
       "      <td>NaN</td>\n",
       "      <td>NaN</td>\n",
       "      <td>NaN</td>\n",
       "      <td>NaN</td>\n",
       "    </tr>\n",
       "    <tr>\n",
       "      <th>Üks Uks</th>\n",
       "      <td>NaN</td>\n",
       "      <td>NaN</td>\n",
       "      <td>NaN</td>\n",
       "      <td>NaN</td>\n",
       "      <td>NaN</td>\n",
       "      <td>NaN</td>\n",
       "      <td>NaN</td>\n",
       "      <td>NaN</td>\n",
       "      <td>NaN</td>\n",
       "      <td>NaN</td>\n",
       "      <td>...</td>\n",
       "      <td>NaN</td>\n",
       "      <td>NaN</td>\n",
       "      <td>NaN</td>\n",
       "      <td>NaN</td>\n",
       "      <td>NaN</td>\n",
       "      <td>NaN</td>\n",
       "      <td>NaN</td>\n",
       "      <td>NaN</td>\n",
       "      <td>NaN</td>\n",
       "      <td>NaN</td>\n",
       "    </tr>\n",
       "    <tr>\n",
       "      <th>◯</th>\n",
       "      <td>NaN</td>\n",
       "      <td>NaN</td>\n",
       "      <td>NaN</td>\n",
       "      <td>NaN</td>\n",
       "      <td>NaN</td>\n",
       "      <td>NaN</td>\n",
       "      <td>NaN</td>\n",
       "      <td>NaN</td>\n",
       "      <td>NaN</td>\n",
       "      <td>NaN</td>\n",
       "      <td>...</td>\n",
       "      <td>NaN</td>\n",
       "      <td>NaN</td>\n",
       "      <td>NaN</td>\n",
       "      <td>NaN</td>\n",
       "      <td>NaN</td>\n",
       "      <td>NaN</td>\n",
       "      <td>NaN</td>\n",
       "      <td>NaN</td>\n",
       "      <td>NaN</td>\n",
       "      <td>NaN</td>\n",
       "    </tr>\n",
       "  </tbody>\n",
       "</table>\n",
       "<p>4195 rows × 4196 columns</p>\n",
       "</div>"
      ],
      "text/plain": [
       "anime_id                                            115    141    216    \\\n",
       "name                                                                      \n",
       "&quot;Aesop&quot; no Ohanashi yori: Ushi to Kae...    NaN    NaN    NaN   \n",
       "1                                                     NaN    NaN    NaN   \n",
       "100%                                                  NaN    NaN    NaN   \n",
       "100-man-nen Chikyuu no Tabi: Bander Book              NaN    NaN    NaN   \n",
       "11eyes Picture Drama                                  NaN    NaN    NaN   \n",
       "...                                                   ...    ...    ...   \n",
       "lilac (bombs Jun Togawa)                              NaN    NaN    NaN   \n",
       "makemagic                                             NaN    NaN    NaN   \n",
       "on-chan, Yume Power Daibouken!                        NaN    NaN    NaN   \n",
       "Üks Uks                                               NaN    NaN    NaN   \n",
       "◯                                                     NaN    NaN    NaN   \n",
       "\n",
       "anime_id                                            286    307    351    \\\n",
       "name                                                                      \n",
       "&quot;Aesop&quot; no Ohanashi yori: Ushi to Kae...    NaN    NaN    NaN   \n",
       "1                                                     NaN    NaN    NaN   \n",
       "100%                                                  NaN    NaN    NaN   \n",
       "100-man-nen Chikyuu no Tabi: Bander Book              NaN    NaN    NaN   \n",
       "11eyes Picture Drama                                  NaN    NaN    NaN   \n",
       "...                                                   ...    ...    ...   \n",
       "lilac (bombs Jun Togawa)                              NaN    NaN    NaN   \n",
       "makemagic                                             NaN    NaN    NaN   \n",
       "on-chan, Yume Power Daibouken!                        NaN    NaN    NaN   \n",
       "Üks Uks                                               NaN    NaN    NaN   \n",
       "◯                                                     NaN    NaN    NaN   \n",
       "\n",
       "anime_id                                            363    434    498    \\\n",
       "name                                                                      \n",
       "&quot;Aesop&quot; no Ohanashi yori: Ushi to Kae...    NaN    NaN    NaN   \n",
       "1                                                     NaN    NaN    NaN   \n",
       "100%                                                  NaN    NaN    NaN   \n",
       "100-man-nen Chikyuu no Tabi: Bander Book              NaN    NaN    NaN   \n",
       "11eyes Picture Drama                                  NaN    NaN    NaN   \n",
       "...                                                   ...    ...    ...   \n",
       "lilac (bombs Jun Togawa)                              NaN    NaN    NaN   \n",
       "makemagic                                             NaN    NaN    NaN   \n",
       "on-chan, Yume Power Daibouken!                        NaN    NaN    NaN   \n",
       "Üks Uks                                               NaN    NaN    NaN   \n",
       "◯                                                     NaN    NaN    NaN   \n",
       "\n",
       "anime_id                                            545    ...  34474  34491  \\\n",
       "name                                                       ...                 \n",
       "&quot;Aesop&quot; no Ohanashi yori: Ushi to Kae...    NaN  ...    NaN    NaN   \n",
       "1                                                     NaN  ...    NaN    NaN   \n",
       "100%                                                  NaN  ...    NaN    NaN   \n",
       "100-man-nen Chikyuu no Tabi: Bander Book              NaN  ...    NaN    NaN   \n",
       "11eyes Picture Drama                                  NaN  ...    NaN    NaN   \n",
       "...                                                   ...  ...    ...    ...   \n",
       "lilac (bombs Jun Togawa)                              NaN  ...    NaN    NaN   \n",
       "makemagic                                             NaN  ...    NaN    NaN   \n",
       "on-chan, Yume Power Daibouken!                        NaN  ...    NaN    NaN   \n",
       "Üks Uks                                               NaN  ...    NaN    NaN   \n",
       "◯                                                     NaN  ...    NaN    NaN   \n",
       "\n",
       "anime_id                                            34492  34497  34498  \\\n",
       "name                                                                      \n",
       "&quot;Aesop&quot; no Ohanashi yori: Ushi to Kae...    NaN    NaN    NaN   \n",
       "1                                                     NaN    NaN    NaN   \n",
       "100%                                                  NaN    NaN    NaN   \n",
       "100-man-nen Chikyuu no Tabi: Bander Book              NaN    NaN    NaN   \n",
       "11eyes Picture Drama                                  NaN    NaN    NaN   \n",
       "...                                                   ...    ...    ...   \n",
       "lilac (bombs Jun Togawa)                              NaN    NaN    NaN   \n",
       "makemagic                                             NaN    NaN    NaN   \n",
       "on-chan, Yume Power Daibouken!                        NaN    NaN    NaN   \n",
       "Üks Uks                                               NaN    NaN    NaN   \n",
       "◯                                                     NaN    NaN    NaN   \n",
       "\n",
       "anime_id                                            34501  34503  34506  \\\n",
       "name                                                                      \n",
       "&quot;Aesop&quot; no Ohanashi yori: Ushi to Kae...    NaN    NaN    NaN   \n",
       "1                                                     NaN    NaN    NaN   \n",
       "100%                                                  NaN    NaN    NaN   \n",
       "100-man-nen Chikyuu no Tabi: Bander Book              NaN    NaN    NaN   \n",
       "11eyes Picture Drama                                  NaN    NaN    NaN   \n",
       "...                                                   ...    ...    ...   \n",
       "lilac (bombs Jun Togawa)                              NaN    NaN    NaN   \n",
       "makemagic                                             NaN    NaN    NaN   \n",
       "on-chan, Yume Power Daibouken!                        NaN    NaN    NaN   \n",
       "Üks Uks                                               NaN    NaN    NaN   \n",
       "◯                                                     NaN    NaN    NaN   \n",
       "\n",
       "anime_id                                            34519  34522  \n",
       "name                                                              \n",
       "&quot;Aesop&quot; no Ohanashi yori: Ushi to Kae...    NaN    NaN  \n",
       "1                                                     NaN    NaN  \n",
       "100%                                                  NaN    NaN  \n",
       "100-man-nen Chikyuu no Tabi: Bander Book              NaN    NaN  \n",
       "11eyes Picture Drama                                  NaN    NaN  \n",
       "...                                                   ...    ...  \n",
       "lilac (bombs Jun Togawa)                              NaN    NaN  \n",
       "makemagic                                             NaN    NaN  \n",
       "on-chan, Yume Power Daibouken!                        NaN    NaN  \n",
       "Üks Uks                                               NaN    NaN  \n",
       "◯                                                     NaN    NaN  \n",
       "\n",
       "[4195 rows x 4196 columns]"
      ]
     },
     "execution_count": 55,
     "metadata": {},
     "output_type": "execute_result"
    }
   ],
   "source": [
    "pivot_table"
   ]
  },
  {
   "cell_type": "code",
   "execution_count": 56,
   "id": "806c3bc1",
   "metadata": {},
   "outputs": [],
   "source": [
    "# fill null values with '0'\n",
    "pivot_table.fillna(0, inplace= True)"
   ]
  },
  {
   "cell_type": "code",
   "execution_count": 57,
   "id": "572e9cf0",
   "metadata": {},
   "outputs": [
    {
     "data": {
      "text/html": [
       "<div>\n",
       "<style scoped>\n",
       "    .dataframe tbody tr th:only-of-type {\n",
       "        vertical-align: middle;\n",
       "    }\n",
       "\n",
       "    .dataframe tbody tr th {\n",
       "        vertical-align: top;\n",
       "    }\n",
       "\n",
       "    .dataframe thead th {\n",
       "        text-align: right;\n",
       "    }\n",
       "</style>\n",
       "<table border=\"1\" class=\"dataframe\">\n",
       "  <thead>\n",
       "    <tr style=\"text-align: right;\">\n",
       "      <th>anime_id</th>\n",
       "      <th>115</th>\n",
       "      <th>141</th>\n",
       "      <th>216</th>\n",
       "      <th>286</th>\n",
       "      <th>307</th>\n",
       "      <th>351</th>\n",
       "      <th>363</th>\n",
       "      <th>434</th>\n",
       "      <th>498</th>\n",
       "      <th>545</th>\n",
       "      <th>...</th>\n",
       "      <th>34474</th>\n",
       "      <th>34491</th>\n",
       "      <th>34492</th>\n",
       "      <th>34497</th>\n",
       "      <th>34498</th>\n",
       "      <th>34501</th>\n",
       "      <th>34503</th>\n",
       "      <th>34506</th>\n",
       "      <th>34519</th>\n",
       "      <th>34522</th>\n",
       "    </tr>\n",
       "    <tr>\n",
       "      <th>name</th>\n",
       "      <th></th>\n",
       "      <th></th>\n",
       "      <th></th>\n",
       "      <th></th>\n",
       "      <th></th>\n",
       "      <th></th>\n",
       "      <th></th>\n",
       "      <th></th>\n",
       "      <th></th>\n",
       "      <th></th>\n",
       "      <th></th>\n",
       "      <th></th>\n",
       "      <th></th>\n",
       "      <th></th>\n",
       "      <th></th>\n",
       "      <th></th>\n",
       "      <th></th>\n",
       "      <th></th>\n",
       "      <th></th>\n",
       "      <th></th>\n",
       "      <th></th>\n",
       "    </tr>\n",
       "  </thead>\n",
       "  <tbody>\n",
       "    <tr>\n",
       "      <th>&amp;quot;Aesop&amp;quot; no Ohanashi yori: Ushi to Kaeru, Yokubatta Inu</th>\n",
       "      <td>0.0</td>\n",
       "      <td>0.0</td>\n",
       "      <td>0.0</td>\n",
       "      <td>0.0</td>\n",
       "      <td>0.0</td>\n",
       "      <td>0.0</td>\n",
       "      <td>0.0</td>\n",
       "      <td>0.0</td>\n",
       "      <td>0.0</td>\n",
       "      <td>0.0</td>\n",
       "      <td>...</td>\n",
       "      <td>0.0</td>\n",
       "      <td>0.0</td>\n",
       "      <td>0.0</td>\n",
       "      <td>0.0</td>\n",
       "      <td>0.0</td>\n",
       "      <td>0.0</td>\n",
       "      <td>0.0</td>\n",
       "      <td>0.0</td>\n",
       "      <td>0.0</td>\n",
       "      <td>0.0</td>\n",
       "    </tr>\n",
       "    <tr>\n",
       "      <th>1</th>\n",
       "      <td>0.0</td>\n",
       "      <td>0.0</td>\n",
       "      <td>0.0</td>\n",
       "      <td>0.0</td>\n",
       "      <td>0.0</td>\n",
       "      <td>0.0</td>\n",
       "      <td>0.0</td>\n",
       "      <td>0.0</td>\n",
       "      <td>0.0</td>\n",
       "      <td>0.0</td>\n",
       "      <td>...</td>\n",
       "      <td>0.0</td>\n",
       "      <td>0.0</td>\n",
       "      <td>0.0</td>\n",
       "      <td>0.0</td>\n",
       "      <td>0.0</td>\n",
       "      <td>0.0</td>\n",
       "      <td>0.0</td>\n",
       "      <td>0.0</td>\n",
       "      <td>0.0</td>\n",
       "      <td>0.0</td>\n",
       "    </tr>\n",
       "    <tr>\n",
       "      <th>100%</th>\n",
       "      <td>0.0</td>\n",
       "      <td>0.0</td>\n",
       "      <td>0.0</td>\n",
       "      <td>0.0</td>\n",
       "      <td>0.0</td>\n",
       "      <td>0.0</td>\n",
       "      <td>0.0</td>\n",
       "      <td>0.0</td>\n",
       "      <td>0.0</td>\n",
       "      <td>0.0</td>\n",
       "      <td>...</td>\n",
       "      <td>0.0</td>\n",
       "      <td>0.0</td>\n",
       "      <td>0.0</td>\n",
       "      <td>0.0</td>\n",
       "      <td>0.0</td>\n",
       "      <td>0.0</td>\n",
       "      <td>0.0</td>\n",
       "      <td>0.0</td>\n",
       "      <td>0.0</td>\n",
       "      <td>0.0</td>\n",
       "    </tr>\n",
       "    <tr>\n",
       "      <th>100-man-nen Chikyuu no Tabi: Bander Book</th>\n",
       "      <td>0.0</td>\n",
       "      <td>0.0</td>\n",
       "      <td>0.0</td>\n",
       "      <td>0.0</td>\n",
       "      <td>0.0</td>\n",
       "      <td>0.0</td>\n",
       "      <td>0.0</td>\n",
       "      <td>0.0</td>\n",
       "      <td>0.0</td>\n",
       "      <td>0.0</td>\n",
       "      <td>...</td>\n",
       "      <td>0.0</td>\n",
       "      <td>0.0</td>\n",
       "      <td>0.0</td>\n",
       "      <td>0.0</td>\n",
       "      <td>0.0</td>\n",
       "      <td>0.0</td>\n",
       "      <td>0.0</td>\n",
       "      <td>0.0</td>\n",
       "      <td>0.0</td>\n",
       "      <td>0.0</td>\n",
       "    </tr>\n",
       "    <tr>\n",
       "      <th>11eyes Picture Drama</th>\n",
       "      <td>0.0</td>\n",
       "      <td>0.0</td>\n",
       "      <td>0.0</td>\n",
       "      <td>0.0</td>\n",
       "      <td>0.0</td>\n",
       "      <td>0.0</td>\n",
       "      <td>0.0</td>\n",
       "      <td>0.0</td>\n",
       "      <td>0.0</td>\n",
       "      <td>0.0</td>\n",
       "      <td>...</td>\n",
       "      <td>0.0</td>\n",
       "      <td>0.0</td>\n",
       "      <td>0.0</td>\n",
       "      <td>0.0</td>\n",
       "      <td>0.0</td>\n",
       "      <td>0.0</td>\n",
       "      <td>0.0</td>\n",
       "      <td>0.0</td>\n",
       "      <td>0.0</td>\n",
       "      <td>0.0</td>\n",
       "    </tr>\n",
       "  </tbody>\n",
       "</table>\n",
       "<p>5 rows × 4196 columns</p>\n",
       "</div>"
      ],
      "text/plain": [
       "anime_id                                            115    141    216    \\\n",
       "name                                                                      \n",
       "&quot;Aesop&quot; no Ohanashi yori: Ushi to Kae...    0.0    0.0    0.0   \n",
       "1                                                     0.0    0.0    0.0   \n",
       "100%                                                  0.0    0.0    0.0   \n",
       "100-man-nen Chikyuu no Tabi: Bander Book              0.0    0.0    0.0   \n",
       "11eyes Picture Drama                                  0.0    0.0    0.0   \n",
       "\n",
       "anime_id                                            286    307    351    \\\n",
       "name                                                                      \n",
       "&quot;Aesop&quot; no Ohanashi yori: Ushi to Kae...    0.0    0.0    0.0   \n",
       "1                                                     0.0    0.0    0.0   \n",
       "100%                                                  0.0    0.0    0.0   \n",
       "100-man-nen Chikyuu no Tabi: Bander Book              0.0    0.0    0.0   \n",
       "11eyes Picture Drama                                  0.0    0.0    0.0   \n",
       "\n",
       "anime_id                                            363    434    498    \\\n",
       "name                                                                      \n",
       "&quot;Aesop&quot; no Ohanashi yori: Ushi to Kae...    0.0    0.0    0.0   \n",
       "1                                                     0.0    0.0    0.0   \n",
       "100%                                                  0.0    0.0    0.0   \n",
       "100-man-nen Chikyuu no Tabi: Bander Book              0.0    0.0    0.0   \n",
       "11eyes Picture Drama                                  0.0    0.0    0.0   \n",
       "\n",
       "anime_id                                            545    ...  34474  34491  \\\n",
       "name                                                       ...                 \n",
       "&quot;Aesop&quot; no Ohanashi yori: Ushi to Kae...    0.0  ...    0.0    0.0   \n",
       "1                                                     0.0  ...    0.0    0.0   \n",
       "100%                                                  0.0  ...    0.0    0.0   \n",
       "100-man-nen Chikyuu no Tabi: Bander Book              0.0  ...    0.0    0.0   \n",
       "11eyes Picture Drama                                  0.0  ...    0.0    0.0   \n",
       "\n",
       "anime_id                                            34492  34497  34498  \\\n",
       "name                                                                      \n",
       "&quot;Aesop&quot; no Ohanashi yori: Ushi to Kae...    0.0    0.0    0.0   \n",
       "1                                                     0.0    0.0    0.0   \n",
       "100%                                                  0.0    0.0    0.0   \n",
       "100-man-nen Chikyuu no Tabi: Bander Book              0.0    0.0    0.0   \n",
       "11eyes Picture Drama                                  0.0    0.0    0.0   \n",
       "\n",
       "anime_id                                            34501  34503  34506  \\\n",
       "name                                                                      \n",
       "&quot;Aesop&quot; no Ohanashi yori: Ushi to Kae...    0.0    0.0    0.0   \n",
       "1                                                     0.0    0.0    0.0   \n",
       "100%                                                  0.0    0.0    0.0   \n",
       "100-man-nen Chikyuu no Tabi: Bander Book              0.0    0.0    0.0   \n",
       "11eyes Picture Drama                                  0.0    0.0    0.0   \n",
       "\n",
       "anime_id                                            34519  34522  \n",
       "name                                                              \n",
       "&quot;Aesop&quot; no Ohanashi yori: Ushi to Kae...    0.0    0.0  \n",
       "1                                                     0.0    0.0  \n",
       "100%                                                  0.0    0.0  \n",
       "100-man-nen Chikyuu no Tabi: Bander Book              0.0    0.0  \n",
       "11eyes Picture Drama                                  0.0    0.0  \n",
       "\n",
       "[5 rows x 4196 columns]"
      ]
     },
     "execution_count": 57,
     "metadata": {},
     "output_type": "execute_result"
    }
   ],
   "source": [
    "pivot_table.head()  # top 5 rows"
   ]
  },
  {
   "cell_type": "code",
   "execution_count": 58,
   "id": "263eecac",
   "metadata": {},
   "outputs": [],
   "source": [
    "# standardise the pivot table\n",
    "from sklearn.preprocessing import StandardScaler\n",
    "scaler = StandardScaler(with_mean=True, with_std=True)\n",
    "pivot_table_normalized = scaler.fit_transform(pivot_table)"
   ]
  },
  {
   "cell_type": "code",
   "execution_count": 59,
   "id": "c5b532fd",
   "metadata": {},
   "outputs": [
    {
     "data": {
      "text/plain": [
       "array([[-0.01544137, -0.01544137, -0.01544137, ..., -0.01544137,\n",
       "        -0.01544137, -0.01544137],\n",
       "       [-0.01544137, -0.01544137, -0.01544137, ..., -0.01544137,\n",
       "        -0.01544137, -0.01544137],\n",
       "       [-0.01544137, -0.01544137, -0.01544137, ..., -0.01544137,\n",
       "        -0.01544137, -0.01544137],\n",
       "       ...,\n",
       "       [-0.01544137, -0.01544137, -0.01544137, ..., -0.01544137,\n",
       "        -0.01544137, -0.01544137],\n",
       "       [-0.01544137, -0.01544137, -0.01544137, ..., -0.01544137,\n",
       "        -0.01544137, -0.01544137],\n",
       "       [-0.01544137, -0.01544137, -0.01544137, ..., -0.01544137,\n",
       "        -0.01544137, -0.01544137]])"
      ]
     },
     "execution_count": 59,
     "metadata": {},
     "output_type": "execute_result"
    }
   ],
   "source": [
    "pivot_table_normalized"
   ]
  },
  {
   "cell_type": "code",
   "execution_count": 60,
   "id": "19c4c1b4",
   "metadata": {},
   "outputs": [],
   "source": [
    "#use cosine similarity on the standardised pivot table \n",
    "\n",
    "from sklearn.metrics.pairwise import cosine_similarity\n",
    "similarity_score = cosine_similarity(pivot_table_normalized) # calculate the similarity score for all the genre"
   ]
  },
  {
   "cell_type": "code",
   "execution_count": 61,
   "id": "517b86d4",
   "metadata": {},
   "outputs": [
    {
     "data": {
      "text/plain": [
       "array([[ 1.00000000e+00, -2.38379009e-04, -2.38379009e-04, ...,\n",
       "        -2.38379009e-04, -2.38379009e-04, -2.38379009e-04],\n",
       "       [-2.38379009e-04,  1.00000000e+00, -2.38379009e-04, ...,\n",
       "        -2.38379009e-04, -2.38379009e-04, -2.38379009e-04],\n",
       "       [-2.38379009e-04, -2.38379009e-04,  1.00000000e+00, ...,\n",
       "        -2.38379009e-04, -2.38379009e-04, -2.38379009e-04],\n",
       "       ...,\n",
       "       [-2.38379009e-04, -2.38379009e-04, -2.38379009e-04, ...,\n",
       "         1.00000000e+00, -2.38379009e-04, -2.38379009e-04],\n",
       "       [-2.38379009e-04, -2.38379009e-04, -2.38379009e-04, ...,\n",
       "        -2.38379009e-04,  1.00000000e+00, -2.38379009e-04],\n",
       "       [-2.38379009e-04, -2.38379009e-04, -2.38379009e-04, ...,\n",
       "        -2.38379009e-04, -2.38379009e-04,  1.00000000e+00]])"
      ]
     },
     "execution_count": 61,
     "metadata": {},
     "output_type": "execute_result"
    }
   ],
   "source": [
    "similarity_score"
   ]
  },
  {
   "cell_type": "markdown",
   "id": "edfb19c4",
   "metadata": {},
   "source": [
    "Let's us define a function recommend() using similarity_score. This function recommends top 5 similar Anime name"
   ]
  },
  {
   "cell_type": "code",
   "execution_count": 62,
   "id": "fd825686",
   "metadata": {},
   "outputs": [],
   "source": [
    "import numpy as np"
   ]
  },
  {
   "cell_type": "code",
   "execution_count": 63,
   "id": "b6a39df8",
   "metadata": {},
   "outputs": [],
   "source": [
    "def recommend(anime_name): \n",
    "    \n",
    "    # Returns the numerical index for the anime_name\n",
    "    index = np.where(pivot_table.index==anime_name)[0][0]\n",
    "    \n",
    "    # Sorts the similarities for the anime_name in descending order ([1:6] means 5 names)\n",
    "    similar_anime = sorted(list(enumerate(similarity_score[index])),key=lambda x:x[1], reverse=True)[1:6]\n",
    "    \n",
    "    # To return result in list format\n",
    "    data_1 = []\n",
    "    \n",
    "    for index,similarity in similar_anime:\n",
    "        item = []\n",
    "        # Get the anime details by index (it selects the top 5 similar anime names excluding the given anime name)\n",
    "        temp_df = data[data['name'] == pivot_table.index[index]]\n",
    "        \n",
    "# Only add the title, genre, and type to the result (retrieves these details of the top 5 similar anime names from the data)\n",
    "        item.extend(temp_df['name'].values)\n",
    "        item.extend(temp_df['genre'].values)\n",
    "        item.extend(temp_df['type'].values)\n",
    "        \n",
    "        data_1.append(item)\n",
    "    return data_1    # return info as a list"
   ]
  },
  {
   "cell_type": "markdown",
   "id": "1e7943b5",
   "metadata": {},
   "source": [
    "when we pass any name from the pivot table as a parameter to the recommend() func, it will return the top 5 similar names of anime"
   ]
  },
  {
   "cell_type": "code",
   "execution_count": 64,
   "id": "1fdbc93d",
   "metadata": {},
   "outputs": [
    {
     "data": {
      "text/plain": [
       "[['Kenka Banchou Otome: Girl Beats Boys', 'Hentai', 'TV'],\n",
       " ['Idol Kyousei Sousa', 'Hentai', 'OVA'],\n",
       " ['Wake Up, Girls! Shin Shou', 'Drama, Music', 'TV'],\n",
       " ['Kochinpa! Dainiki', 'Comedy', 'TV'],\n",
       " ['Nuki Doki! Tenshi to Akuma no Sakusei Battle - Revolution',\n",
       "  'Hentai',\n",
       "  'OVA']]"
      ]
     },
     "execution_count": 64,
     "metadata": {},
     "output_type": "execute_result"
    }
   ],
   "source": [
    "# Model Validating\n",
    "# Call the recommend method\n",
    "recommend('11eyes Picture Drama') # retrieves the top 5 similar names of anime  excluding the given name "
   ]
  },
  {
   "cell_type": "code",
   "execution_count": null,
   "id": "dbad0d2c",
   "metadata": {},
   "outputs": [],
   "source": []
  }
 ],
 "metadata": {
  "kernelspec": {
   "display_name": "Python 3 (ipykernel)",
   "language": "python",
   "name": "python3"
  },
  "language_info": {
   "codemirror_mode": {
    "name": "ipython",
    "version": 3
   },
   "file_extension": ".py",
   "mimetype": "text/x-python",
   "name": "python",
   "nbconvert_exporter": "python",
   "pygments_lexer": "ipython3",
   "version": "3.9.13"
  }
 },
 "nbformat": 4,
 "nbformat_minor": 5
}
